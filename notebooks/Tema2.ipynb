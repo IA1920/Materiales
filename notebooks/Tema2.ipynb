{
  "nbformat": 4,
  "nbformat_minor": 0,
  "metadata": {
    "kernelspec": {
      "display_name": "Python 3",
      "language": "python",
      "name": "python3"
    },
    "language_info": {
      "codemirror_mode": {
        "name": "ipython",
        "version": 3
      },
      "file_extension": ".py",
      "mimetype": "text/x-python",
      "name": "python",
      "nbconvert_exporter": "python",
      "pygments_lexer": "ipython3",
      "version": "3.6.7"
    },
    "colab": {
      "name": "Tema2.ipynb",
      "provenance": [],
      "include_colab_link": true
    }
  },
  "cells": [
    {
      "cell_type": "markdown",
      "metadata": {
        "id": "view-in-github",
        "colab_type": "text"
      },
      "source": [
        "<a href=\"https://colab.research.google.com/github/IA1920/Materiales/blob/master/notebooks/Tema2.ipynb\" target=\"_parent\"><img src=\"https://colab.research.google.com/assets/colab-badge.svg\" alt=\"Open In Colab\"/></a>"
      ]
    },
    {
      "cell_type": "markdown",
      "metadata": {
        "id": "IKN2HCW6WjxY",
        "colab_type": "text"
      },
      "source": [
        "# Tema 2: Introducción a Python"
      ]
    },
    {
      "cell_type": "markdown",
      "metadata": {
        "id": "G7aKahOMWjxe",
        "colab_type": "text"
      },
      "source": [
        "## Introducción a Python\n",
        "\n",
        "Python es un lenguaje de programación:\n",
        "- Creado a principios de los 90.\n",
        "- Nombre procede del programa de la BBC [\"Monty Python's Flying Circus\"](https://en.wikipedia.org/wiki/Monty_Python%27s_Flying_Circus).\n",
        "- Multiplataforma.\n",
        "- Amplia biblioteca con cientos de módulos.\n",
        "- Distintos paradigmas de programación.\n",
        "- Trabajaremos con Python 3.6."
      ]
    },
    {
      "cell_type": "markdown",
      "metadata": {
        "id": "zrHpB6uIWjxi",
        "colab_type": "text"
      },
      "source": [
        "## Trabajando con Python\n",
        "\n",
        "Existen distintos modos de trabajar con Python."
      ]
    },
    {
      "cell_type": "markdown",
      "metadata": {
        "id": "gBjneCscWjxk",
        "colab_type": "text"
      },
      "source": [
        "### Modo interactivo\n",
        "\n",
        "- Línea de comandos interactiva (intérprete).\n",
        "- Código no se guarda.\n",
        "- Sirve para hacer pruebas rápidas. \n",
        "- Uso (entorno [REPL](https://en.wikipedia.org/wiki/Read%E2%80%93eval%E2%80%93print_loop)):\n",
        "    - Arrancar el interprete ``> python``.\n",
        "    - Escribir expresión.\n",
        "    - Evaluar expresión.\n",
        "    - Intérprete escribe resultado. "
      ]
    },
    {
      "cell_type": "markdown",
      "metadata": {
        "id": "ZlgI6mIcWjxo",
        "colab_type": "text"
      },
      "source": [
        "### Guiones\n",
        "\n",
        "Guiones son ficheros de texto que permiten guardar nuestros programas Python. \n",
        "- Crear fichero de texto (guión) con extensión ``.py``.\n",
        "- Uso:\n",
        "    - Crear guión.\n",
        "    - Ejecutar guión."
      ]
    },
    {
      "cell_type": "markdown",
      "metadata": {
        "id": "1QYV0GKtWjxs",
        "colab_type": "text"
      },
      "source": [
        "### Notebooks de Jupyter\n",
        "\n",
        "- Combina guiones con modo interactivo.\n",
        "- Se intercalan explicaciones con código.\n",
        "- Se pueden exportar los programas para usarlos como guiones. "
      ]
    },
    {
      "cell_type": "code",
      "metadata": {
        "id": "G9xv0-6eWjxv",
        "colab_type": "code",
        "colab": {}
      },
      "source": [
        "3+2"
      ],
      "execution_count": 0,
      "outputs": []
    },
    {
      "cell_type": "markdown",
      "metadata": {
        "id": "D85CL4hxWjx4",
        "colab_type": "text"
      },
      "source": [
        "## Diferencias de Python con otros lenguajes\n",
        "\n",
        "- No se usan delimitadores (llaves ``{}``).\n",
        "- Se usa indentación $\\rightarrow$ Espacios en blanco son significativos."
      ]
    },
    {
      "cell_type": "code",
      "metadata": {
        "id": "MIh5mY8bWjx7",
        "colab_type": "code",
        "colab": {}
      },
      "source": [
        "def signo(x):\n",
        "    if x < 0:\n",
        "        return \"negativo\"\n",
        "    elif x > 0:\n",
        "        return \"positivo\"\n",
        "    else:\n",
        "        return \"0\""
      ],
      "execution_count": 0,
      "outputs": []
    },
    {
      "cell_type": "markdown",
      "metadata": {
        "id": "TSQ0afCOWjyD",
        "colab_type": "text"
      },
      "source": [
        "- Tipado dinámico:\n",
        "    - No se dan tipos de variables, el sistema los infiere.\n",
        "    - No es necesario indicar el tipo devuelto por las funciones, o el de sus parámetros."
      ]
    },
    {
      "cell_type": "code",
      "metadata": {
        "id": "nbm8paY0WjyF",
        "colab_type": "code",
        "colab": {}
      },
      "source": [
        "a = 3\n",
        "a = 'hola'"
      ],
      "execution_count": 0,
      "outputs": []
    },
    {
      "cell_type": "markdown",
      "metadata": {
        "id": "p9SSFTpxWjyN",
        "colab_type": "text"
      },
      "source": [
        "- Tipado dinámico vs tipado estático:\n",
        "    - No se declaran tipos, Python se encarga de gestionarlos.\n",
        "    - Gestión dinámica, puede cambiar el tipo de las variables.\n",
        "- Interpretado vs compilado:\n",
        "    - Compilación código fuente a código máquina:\n",
        "        - Ejecución más rápida.\n",
        "        - Proceso de compilación puede llevar más tiempo.\n",
        "    - Interpretado:\n",
        "        - Código fuente se transforma a bytecode (lenguaje intermedio).\n",
        "        - Facilita multiplataforma.\n",
        "        - Código es más lento."
      ]
    },
    {
      "cell_type": "markdown",
      "metadata": {
        "id": "VBHFOeRGWjyO",
        "colab_type": "text"
      },
      "source": [
        "## Entornos de programación\n",
        "\n",
        "Existen distintos IDEs:\n",
        "\n",
        "- [Idle](https://docs.python.org/2/library/idle.html).\n",
        "- [Spyder](https://pythonhosted.org/spyder/).\n",
        "- [IPython](https://ipython.org/) + [Jupyter](http://jupyter.org/) + [Colab](https://colab.research.google.com/).\n",
        "- [Pydev](http://www.pydev.org/).\n",
        "- [PyCharm](https://www.jetbrains.com/pycharm/).\n",
        "- [NBDev](https://github.com/fastai/nbdev).\n"
      ]
    },
    {
      "cell_type": "markdown",
      "metadata": {
        "id": "8UkauvliWjyQ",
        "colab_type": "text"
      },
      "source": [
        "## Programando en Python"
      ]
    },
    {
      "cell_type": "markdown",
      "metadata": {
        "id": "mJ5T8XHiWjyS",
        "colab_type": "text"
      },
      "source": [
        "### Definición de funciones"
      ]
    },
    {
      "cell_type": "code",
      "metadata": {
        "id": "dm1qslfrWjyT",
        "colab_type": "code",
        "colab": {}
      },
      "source": [
        "def fib(n):\n",
        "   \"\"\"Imprime la sucesión de Fibonacci hasta n y devuelve el último calculado \"\"\"\n",
        "   a, b = 0, 1\n",
        "   while a < n:\n",
        "       print(a, end=' ')\n",
        "       a, b = b, a+b\n",
        "   print()\n",
        "   return b"
      ],
      "execution_count": 0,
      "outputs": []
    },
    {
      "cell_type": "markdown",
      "metadata": {
        "id": "gim6bIkBWjya",
        "colab_type": "text"
      },
      "source": [
        "Ejemplo de evaluación de la función."
      ]
    },
    {
      "cell_type": "code",
      "metadata": {
        "id": "IGWYtG3aWjyc",
        "colab_type": "code",
        "colab": {}
      },
      "source": [
        "fib(30)"
      ],
      "execution_count": 0,
      "outputs": []
    },
    {
      "cell_type": "markdown",
      "metadata": {
        "id": "-ougwResWjyi",
        "colab_type": "text"
      },
      "source": [
        "Función con múltiples argumentos."
      ]
    },
    {
      "cell_type": "code",
      "metadata": {
        "id": "DN0YR9s3Wjyk",
        "colab_type": "code",
        "colab": {}
      },
      "source": [
        "def g(x,y): return (x**y)"
      ],
      "execution_count": 0,
      "outputs": []
    },
    {
      "cell_type": "code",
      "metadata": {
        "id": "tC8dD9xRWjyq",
        "colab_type": "code",
        "colab": {}
      },
      "source": [
        "g(2,3)"
      ],
      "execution_count": 0,
      "outputs": []
    },
    {
      "cell_type": "code",
      "metadata": {
        "id": "mWZiNd-RWjyx",
        "colab_type": "code",
        "colab": {}
      },
      "source": [
        "g(y=3,x=2)"
      ],
      "execution_count": 0,
      "outputs": []
    },
    {
      "cell_type": "code",
      "metadata": {
        "id": "91G1260aWjy2",
        "colab_type": "code",
        "colab": {}
      },
      "source": [
        "g(2,x=3)"
      ],
      "execution_count": 0,
      "outputs": []
    },
    {
      "cell_type": "markdown",
      "metadata": {
        "id": "eAtYzawRWjy8",
        "colab_type": "text"
      },
      "source": [
        "Función con valores por defecto."
      ]
    },
    {
      "cell_type": "code",
      "metadata": {
        "id": "E5Lq6PAgWjy-",
        "colab_type": "code",
        "colab": {}
      },
      "source": [
        "def j(x,y,z=0): return (x**y+z)"
      ],
      "execution_count": 0,
      "outputs": []
    },
    {
      "cell_type": "code",
      "metadata": {
        "id": "8LCn5RmsWjzD",
        "colab_type": "code",
        "colab": {}
      },
      "source": [
        "j(2,3)"
      ],
      "execution_count": 0,
      "outputs": []
    },
    {
      "cell_type": "code",
      "metadata": {
        "id": "3un5mLngWjzI",
        "colab_type": "code",
        "colab": {}
      },
      "source": [
        "j(2,3,4)"
      ],
      "execution_count": 0,
      "outputs": []
    },
    {
      "cell_type": "markdown",
      "metadata": {
        "id": "WS1kL1GSWjzN",
        "colab_type": "text"
      },
      "source": [
        "### Módulos\n",
        "\n",
        "Descargamos el módulo ``operaciones.py``."
      ]
    },
    {
      "cell_type": "code",
      "metadata": {
        "id": "_1i1SvaBWjzV",
        "colab_type": "code",
        "colab": {}
      },
      "source": [
        "!wget https://raw.githubusercontent.com/IA1920/Utils/master/operaciones.py"
      ],
      "execution_count": 0,
      "outputs": []
    },
    {
      "cell_type": "code",
      "metadata": {
        "id": "un0elU7jWjza",
        "colab_type": "code",
        "colab": {}
      },
      "source": [
        "import operaciones"
      ],
      "execution_count": 0,
      "outputs": []
    },
    {
      "cell_type": "code",
      "metadata": {
        "id": "1RooU9DDWjze",
        "colab_type": "code",
        "colab": {}
      },
      "source": [
        "suma(2,3)"
      ],
      "execution_count": 0,
      "outputs": []
    },
    {
      "cell_type": "code",
      "metadata": {
        "id": "diFVYXw9Wjzj",
        "colab_type": "code",
        "colab": {}
      },
      "source": [
        "operaciones.suma(2,3)"
      ],
      "execution_count": 0,
      "outputs": []
    },
    {
      "cell_type": "code",
      "metadata": {
        "id": "UBhS-MBCWjzo",
        "colab_type": "code",
        "colab": {}
      },
      "source": [
        "operaciones.division(8,5)"
      ],
      "execution_count": 0,
      "outputs": []
    },
    {
      "cell_type": "code",
      "metadata": {
        "id": "RpwbaEntWjzr",
        "colab_type": "code",
        "colab": {}
      },
      "source": [
        "import operaciones as ops"
      ],
      "execution_count": 0,
      "outputs": []
    },
    {
      "cell_type": "code",
      "metadata": {
        "id": "3MSK0MIDWjzx",
        "colab_type": "code",
        "colab": {}
      },
      "source": [
        "ops.resta(4,2)"
      ],
      "execution_count": 0,
      "outputs": []
    },
    {
      "cell_type": "code",
      "metadata": {
        "id": "AmoQjV2YWjz1",
        "colab_type": "code",
        "colab": {}
      },
      "source": [
        "from operaciones import *"
      ],
      "execution_count": 0,
      "outputs": []
    },
    {
      "cell_type": "code",
      "metadata": {
        "id": "erlTZJh6Wjz5",
        "colab_type": "code",
        "colab": {}
      },
      "source": [
        "resta(3,2)"
      ],
      "execution_count": 0,
      "outputs": []
    },
    {
      "cell_type": "code",
      "metadata": {
        "id": "SqbfNGkQWjz9",
        "colab_type": "code",
        "colab": {}
      },
      "source": [
        "from operaciones import suma,resta"
      ],
      "execution_count": 0,
      "outputs": []
    },
    {
      "cell_type": "code",
      "metadata": {
        "id": "t44-Ia6TWj0A",
        "colab_type": "code",
        "colab": {}
      },
      "source": [
        "suma(2,3)"
      ],
      "execution_count": 0,
      "outputs": []
    },
    {
      "cell_type": "code",
      "metadata": {
        "id": "RzUVpCveWj0E",
        "colab_type": "code",
        "colab": {}
      },
      "source": [
        "multiplicacion(2,3)"
      ],
      "execution_count": 0,
      "outputs": []
    },
    {
      "cell_type": "markdown",
      "metadata": {
        "id": "k93Y6xwcWj0I",
        "colab_type": "text"
      },
      "source": [
        "### Comentarios en Python"
      ]
    },
    {
      "cell_type": "code",
      "metadata": {
        "id": "4lKPL4udWj0K",
        "colab_type": "code",
        "colab": {}
      },
      "source": [
        "# Comentario de una línea"
      ],
      "execution_count": 0,
      "outputs": []
    },
    {
      "cell_type": "code",
      "metadata": {
        "id": "WyfmyOA0Wj0M",
        "colab_type": "code",
        "colab": {}
      },
      "source": [
        "\"\"\"Comentario de\n",
        "varias líneas\"\"\""
      ],
      "execution_count": 0,
      "outputs": []
    },
    {
      "cell_type": "markdown",
      "metadata": {
        "id": "e_iKuGO5Wj0Q",
        "colab_type": "text"
      },
      "source": [
        "### Tipos de datos\n",
        "\n",
        "Tipos predefinidos: \n",
        "- números, booleanos, cadenas, listas, tuplas, conjuntos y diccionarios.\n",
        "\n",
        "Tipos mutables e inmutables (depende del tipo):\n",
        "- Mutables: objetos cuyo valor puede cambiar.\n",
        "- Inmutables: objetos cuyo valor no puede cambiar una vez han sido creados."
      ]
    },
    {
      "cell_type": "markdown",
      "metadata": {
        "id": "WMQsdL3dWj0S",
        "colab_type": "text"
      },
      "source": [
        "#### Tipos de datos numéricos"
      ]
    },
    {
      "cell_type": "code",
      "metadata": {
        "id": "79grwWT7Wj0S",
        "colab_type": "code",
        "colab": {}
      },
      "source": [
        "2+2"
      ],
      "execution_count": 0,
      "outputs": []
    },
    {
      "cell_type": "code",
      "metadata": {
        "id": "5kEQVha7Wj0W",
        "colab_type": "code",
        "colab": {}
      },
      "source": [
        "(50-5*6)/4"
      ],
      "execution_count": 0,
      "outputs": []
    },
    {
      "cell_type": "code",
      "metadata": {
        "id": "amYEBiqTWj0Z",
        "colab_type": "code",
        "colab": {}
      },
      "source": [
        "(50-5*6)//4"
      ],
      "execution_count": 0,
      "outputs": []
    },
    {
      "cell_type": "code",
      "metadata": {
        "id": "cfGVkR5iWj0c",
        "colab_type": "code",
        "colab": {}
      },
      "source": [
        "a = (1+2j)/(1+1j)"
      ],
      "execution_count": 0,
      "outputs": []
    },
    {
      "cell_type": "code",
      "metadata": {
        "id": "_8xrUEmHWj0f",
        "colab_type": "code",
        "colab": {}
      },
      "source": [
        "a.real"
      ],
      "execution_count": 0,
      "outputs": []
    },
    {
      "cell_type": "code",
      "metadata": {
        "id": "Vf95uh71Wj0j",
        "colab_type": "code",
        "colab": {}
      },
      "source": [
        "a.imag"
      ],
      "execution_count": 0,
      "outputs": []
    },
    {
      "cell_type": "code",
      "metadata": {
        "id": "8rsocaXyWj0m",
        "colab_type": "code",
        "colab": {}
      },
      "source": [
        "ancho = 20"
      ],
      "execution_count": 0,
      "outputs": []
    },
    {
      "cell_type": "code",
      "metadata": {
        "id": "raYR4f8uWj0o",
        "colab_type": "code",
        "colab": {}
      },
      "source": [
        "alto = 5*9"
      ],
      "execution_count": 0,
      "outputs": []
    },
    {
      "cell_type": "code",
      "metadata": {
        "id": "zbyc4-ohWj0r",
        "colab_type": "code",
        "colab": {}
      },
      "source": [
        "area = ancho*alto"
      ],
      "execution_count": 0,
      "outputs": []
    },
    {
      "cell_type": "code",
      "metadata": {
        "id": "chba1miVWj0w",
        "colab_type": "code",
        "colab": {}
      },
      "source": [
        "area"
      ],
      "execution_count": 0,
      "outputs": []
    },
    {
      "cell_type": "code",
      "metadata": {
        "id": "5YSlBQuYWj0z",
        "colab_type": "code",
        "colab": {}
      },
      "source": [
        "area *= 2"
      ],
      "execution_count": 0,
      "outputs": []
    },
    {
      "cell_type": "code",
      "metadata": {
        "id": "TA33SClVWj04",
        "colab_type": "code",
        "colab": {}
      },
      "source": [
        "area"
      ],
      "execution_count": 0,
      "outputs": []
    },
    {
      "cell_type": "markdown",
      "metadata": {
        "id": "QEfE3scfWj0_",
        "colab_type": "text"
      },
      "source": [
        "#### Tipos de datos booleanos"
      ]
    },
    {
      "cell_type": "code",
      "metadata": {
        "id": "R8GNTZ21Wj0_",
        "colab_type": "code",
        "colab": {}
      },
      "source": [
        "2 == 2"
      ],
      "execution_count": 0,
      "outputs": []
    },
    {
      "cell_type": "code",
      "metadata": {
        "id": "iHgGDIpyWj1D",
        "colab_type": "code",
        "colab": {}
      },
      "source": [
        "2 == 3"
      ],
      "execution_count": 0,
      "outputs": []
    },
    {
      "cell_type": "code",
      "metadata": {
        "id": "us_3I1Z9Wj1G",
        "colab_type": "code",
        "colab": {}
      },
      "source": [
        "True and 2==2"
      ],
      "execution_count": 0,
      "outputs": []
    },
    {
      "cell_type": "code",
      "metadata": {
        "id": "5EyhqVa1Wj1I",
        "colab_type": "code",
        "colab": {}
      },
      "source": [
        "False or 2==2"
      ],
      "execution_count": 0,
      "outputs": []
    },
    {
      "cell_type": "code",
      "metadata": {
        "id": "yW-0IiFJWj1N",
        "colab_type": "code",
        "colab": {}
      },
      "source": [
        "not False"
      ],
      "execution_count": 0,
      "outputs": []
    },
    {
      "cell_type": "code",
      "metadata": {
        "id": "nyHnLZ-ZWj1Q",
        "colab_type": "code",
        "colab": {}
      },
      "source": [
        "True == 1"
      ],
      "execution_count": 0,
      "outputs": []
    },
    {
      "cell_type": "code",
      "metadata": {
        "id": "C-Iiq-PEWj1T",
        "colab_type": "code",
        "colab": {}
      },
      "source": [
        "True == 2"
      ],
      "execution_count": 0,
      "outputs": []
    },
    {
      "cell_type": "code",
      "metadata": {
        "id": "tzfk8QB3Wj1W",
        "colab_type": "code",
        "colab": {}
      },
      "source": [
        "False == 2"
      ],
      "execution_count": 0,
      "outputs": []
    },
    {
      "cell_type": "code",
      "metadata": {
        "id": "MJP55MB6Wj1Y",
        "colab_type": "code",
        "colab": {}
      },
      "source": [
        "False == 0"
      ],
      "execution_count": 0,
      "outputs": []
    },
    {
      "cell_type": "markdown",
      "metadata": {
        "id": "Qa1fQEKFWj1c",
        "colab_type": "text"
      },
      "source": [
        "#### Tipos de datos cadena"
      ]
    },
    {
      "cell_type": "code",
      "metadata": {
        "id": "ZYyRMEZbWj1e",
        "colab_type": "code",
        "colab": {}
      },
      "source": [
        "c1 = \"Buenos\""
      ],
      "execution_count": 0,
      "outputs": []
    },
    {
      "cell_type": "code",
      "metadata": {
        "id": "W0nb9Nf-Wj1h",
        "colab_type": "code",
        "colab": {}
      },
      "source": [
        "c2 = \" días\""
      ],
      "execution_count": 0,
      "outputs": []
    },
    {
      "cell_type": "code",
      "metadata": {
        "id": "PFIgC4X7Wj1l",
        "colab_type": "code",
        "colab": {}
      },
      "source": [
        "c1 + c2"
      ],
      "execution_count": 0,
      "outputs": []
    },
    {
      "cell_type": "code",
      "metadata": {
        "id": "MCKjAfX3Wj1o",
        "colab_type": "code",
        "colab": {}
      },
      "source": [
        "len(c1)"
      ],
      "execution_count": 0,
      "outputs": []
    },
    {
      "cell_type": "markdown",
      "metadata": {
        "id": "WGcnIyZBWj1u",
        "colab_type": "text"
      },
      "source": [
        "##### String slicing\n",
        "\n",
        "Sintaxis slice sirve para referirse a subpartes de strings o de listas.\n",
        "\n",
        "Slice: ``s[start:end]`` $rightarrow$ elementos de ``s`` que empiezan en la posición ``start`` y terminan en la posición ``end-1``."
      ]
    },
    {
      "cell_type": "code",
      "metadata": {
        "id": "ltI_NN4cWj1w",
        "colab_type": "code",
        "colab": {}
      },
      "source": [
        "s = \"Hello\""
      ],
      "execution_count": 0,
      "outputs": []
    },
    {
      "cell_type": "code",
      "metadata": {
        "id": "CBUL1kv4Wj1x",
        "colab_type": "code",
        "colab": {}
      },
      "source": [
        "s[1:4]"
      ],
      "execution_count": 0,
      "outputs": []
    },
    {
      "cell_type": "code",
      "metadata": {
        "id": "PoZJRrvTWj11",
        "colab_type": "code",
        "colab": {}
      },
      "source": [
        "s[1:]"
      ],
      "execution_count": 0,
      "outputs": []
    },
    {
      "cell_type": "code",
      "metadata": {
        "id": "zHcUIBYEWj13",
        "colab_type": "code",
        "colab": {}
      },
      "source": [
        "s[:]"
      ],
      "execution_count": 0,
      "outputs": []
    },
    {
      "cell_type": "code",
      "metadata": {
        "id": "NBJHlVVCWj16",
        "colab_type": "code",
        "colab": {}
      },
      "source": [
        "s[1:100]"
      ],
      "execution_count": 0,
      "outputs": []
    },
    {
      "cell_type": "code",
      "metadata": {
        "id": "x-G_yhlmWj19",
        "colab_type": "code",
        "colab": {}
      },
      "source": [
        "s[-1]"
      ],
      "execution_count": 0,
      "outputs": []
    },
    {
      "cell_type": "code",
      "metadata": {
        "id": "gmr7izXDWj2A",
        "colab_type": "code",
        "colab": {}
      },
      "source": [
        "s[4]"
      ],
      "execution_count": 0,
      "outputs": []
    },
    {
      "cell_type": "code",
      "metadata": {
        "id": "-yS5hutoWj2E",
        "colab_type": "code",
        "colab": {}
      },
      "source": [
        "s[:-3]"
      ],
      "execution_count": 0,
      "outputs": []
    },
    {
      "cell_type": "code",
      "metadata": {
        "id": "aCjq6g-TWj2G",
        "colab_type": "code",
        "colab": {}
      },
      "source": [
        "s[-3:]"
      ],
      "execution_count": 0,
      "outputs": []
    },
    {
      "cell_type": "markdown",
      "metadata": {
        "id": "Q19o0p-IWj2W",
        "colab_type": "text"
      },
      "source": [
        "##### Métodos con strings"
      ]
    },
    {
      "cell_type": "code",
      "metadata": {
        "id": "5sN7uxaoWj2X",
        "colab_type": "code",
        "colab": {}
      },
      "source": [
        "s.lower()"
      ],
      "execution_count": 0,
      "outputs": []
    },
    {
      "cell_type": "code",
      "metadata": {
        "id": "8S9R4IpCWj2Z",
        "colab_type": "code",
        "colab": {}
      },
      "source": [
        "s.upper()"
      ],
      "execution_count": 0,
      "outputs": []
    },
    {
      "cell_type": "code",
      "metadata": {
        "id": "Ls17x-usWj2b",
        "colab_type": "code",
        "colab": {}
      },
      "source": [
        "\" Buenos días \".strip()"
      ],
      "execution_count": 0,
      "outputs": []
    },
    {
      "cell_type": "code",
      "metadata": {
        "id": "xZAbgOIWWj2e",
        "colab_type": "code",
        "colab": {}
      },
      "source": [
        "??s.strip"
      ],
      "execution_count": 0,
      "outputs": []
    },
    {
      "cell_type": "code",
      "metadata": {
        "id": "l_AMPzk8Wj2i",
        "colab_type": "code",
        "colab": {}
      },
      "source": [
        "'a'.isdigit()"
      ],
      "execution_count": 0,
      "outputs": []
    },
    {
      "cell_type": "code",
      "metadata": {
        "id": "HqqppldcWj2k",
        "colab_type": "code",
        "colab": {}
      },
      "source": [
        "'a'.isalpha()"
      ],
      "execution_count": 0,
      "outputs": []
    },
    {
      "cell_type": "code",
      "metadata": {
        "id": "T8T45VtlWj2m",
        "colab_type": "code",
        "colab": {}
      },
      "source": [
        "'a'.isspace()"
      ],
      "execution_count": 0,
      "outputs": []
    },
    {
      "cell_type": "code",
      "metadata": {
        "id": "UHRW6HscWj2p",
        "colab_type": "code",
        "colab": {}
      },
      "source": [
        "s.startswith('h')"
      ],
      "execution_count": 0,
      "outputs": []
    },
    {
      "cell_type": "code",
      "metadata": {
        "id": "RCTR_m8oWj2s",
        "colab_type": "code",
        "colab": {}
      },
      "source": [
        "s.endswith('o')"
      ],
      "execution_count": 0,
      "outputs": []
    },
    {
      "cell_type": "code",
      "metadata": {
        "id": "fnj8Tw_7Wj2u",
        "colab_type": "code",
        "colab": {}
      },
      "source": [
        "s.find('l')"
      ],
      "execution_count": 0,
      "outputs": []
    },
    {
      "cell_type": "code",
      "metadata": {
        "id": "LfUzNaQBWj2y",
        "colab_type": "code",
        "colab": {}
      },
      "source": [
        "s.rfind('l')"
      ],
      "execution_count": 0,
      "outputs": []
    },
    {
      "cell_type": "code",
      "metadata": {
        "id": "kmrUrKx7Wj21",
        "colab_type": "code",
        "colab": {}
      },
      "source": [
        "s.replace('l','m')"
      ],
      "execution_count": 0,
      "outputs": []
    },
    {
      "cell_type": "code",
      "metadata": {
        "id": "8aPtmHbfWj24",
        "colab_type": "code",
        "colab": {}
      },
      "source": [
        "s1 = \"Bienvenidos a la asignatura de Inteligencia Artificial\""
      ],
      "execution_count": 0,
      "outputs": []
    },
    {
      "cell_type": "code",
      "metadata": {
        "id": "3I_2g7wuWj27",
        "colab_type": "code",
        "colab": {}
      },
      "source": [
        "s1.split(' ')"
      ],
      "execution_count": 0,
      "outputs": []
    },
    {
      "cell_type": "code",
      "metadata": {
        "id": "brBjqg1AWj2-",
        "colab_type": "code",
        "colab": {}
      },
      "source": [
        "' '.join(s1.split(' '))"
      ],
      "execution_count": 0,
      "outputs": []
    },
    {
      "cell_type": "markdown",
      "metadata": {
        "id": "6QgeoQ9-Wj3A",
        "colab_type": "text"
      },
      "source": [
        "##### Escritura por pantalla"
      ]
    },
    {
      "cell_type": "code",
      "metadata": {
        "id": "VzTQJJX7Wj3B",
        "colab_type": "code",
        "colab": {}
      },
      "source": [
        "print(\"Inteligencia Artificial\")"
      ],
      "execution_count": 0,
      "outputs": []
    },
    {
      "cell_type": "code",
      "metadata": {
        "id": "obirLnGCWj3F",
        "colab_type": "code",
        "colab": {}
      },
      "source": [
        "print(\"Hola %s, quedan %i dias\" % (\"Pepe\",5))"
      ],
      "execution_count": 0,
      "outputs": []
    },
    {
      "cell_type": "code",
      "metadata": {
        "id": "4mXtFU2fWj3L",
        "colab_type": "code",
        "colab": {}
      },
      "source": [
        "c = \"{0} por {1} es {2}\" "
      ],
      "execution_count": 0,
      "outputs": []
    },
    {
      "cell_type": "code",
      "metadata": {
        "id": "vMVurSzVWj3M",
        "colab_type": "code",
        "colab": {}
      },
      "source": [
        "x , y = 2,3"
      ],
      "execution_count": 0,
      "outputs": []
    },
    {
      "cell_type": "code",
      "metadata": {
        "id": "4NfGCDeKWj3P",
        "colab_type": "code",
        "colab": {}
      },
      "source": [
        "print(c.format(x,y,x*y))"
      ],
      "execution_count": 0,
      "outputs": []
    },
    {
      "cell_type": "markdown",
      "metadata": {
        "id": "t5Lhkuh-Wj3R",
        "colab_type": "text"
      },
      "source": [
        "##### Lectura de teclado"
      ]
    },
    {
      "cell_type": "code",
      "metadata": {
        "id": "63IbFWkJWj3S",
        "colab_type": "code",
        "colab": {}
      },
      "source": [
        "nombre = input(\"Introduce tu nombre: \")"
      ],
      "execution_count": 0,
      "outputs": []
    },
    {
      "cell_type": "code",
      "metadata": {
        "id": "gduHKWojWj3V",
        "colab_type": "code",
        "colab": {}
      },
      "source": [
        "print(nombre)"
      ],
      "execution_count": 0,
      "outputs": []
    },
    {
      "cell_type": "markdown",
      "metadata": {
        "id": "dtUWU4zbWj3Y",
        "colab_type": "text"
      },
      "source": [
        "#### Listas\n",
        "\n",
        "- Tipo muy utilizado en Python.\n",
        "- Secuencia de elementos separados por comas y entre corchetes.\n",
        "- Funciona de manera similar a los strings:\n",
        "    - Función ``len``, slicing con misma sintáxis, ...\n",
        "- Contienen cualquier tipo de objeto, pueden tener distintos tipos de objetos.\n",
        "- Listas son mutables. "
      ]
    },
    {
      "cell_type": "code",
      "metadata": {
        "id": "sRy_etR1Wj3a",
        "colab_type": "code",
        "colab": {}
      },
      "source": [
        "lista  = [1,2,3,4]"
      ],
      "execution_count": 0,
      "outputs": []
    },
    {
      "cell_type": "code",
      "metadata": {
        "id": "9muofhozWj3b",
        "colab_type": "code",
        "colab": {}
      },
      "source": [
        "len(lista)"
      ],
      "execution_count": 0,
      "outputs": []
    },
    {
      "cell_type": "code",
      "metadata": {
        "id": "5RX_adzvWj3e",
        "colab_type": "code",
        "colab": {}
      },
      "source": [
        "lista[0]"
      ],
      "execution_count": 0,
      "outputs": []
    },
    {
      "cell_type": "code",
      "metadata": {
        "id": "9UMS6lW-Wj3f",
        "colab_type": "code",
        "colab": {}
      },
      "source": [
        "lista[1:]"
      ],
      "execution_count": 0,
      "outputs": []
    },
    {
      "cell_type": "code",
      "metadata": {
        "id": "Ym74ThpuWj3i",
        "colab_type": "code",
        "colab": {}
      },
      "source": [
        "lista[1]=5"
      ],
      "execution_count": 0,
      "outputs": []
    },
    {
      "cell_type": "code",
      "metadata": {
        "id": "OqcY6KBuWj3j",
        "colab_type": "code",
        "colab": {}
      },
      "source": [
        "lista"
      ],
      "execution_count": 0,
      "outputs": []
    },
    {
      "cell_type": "markdown",
      "metadata": {
        "id": "lunDBBx5Wj3l",
        "colab_type": "text"
      },
      "source": [
        "A continuación se muestran distintos métodos sobre listas que modifican la lista sobre la que se aplican, pero no devuelven nada."
      ]
    },
    {
      "cell_type": "code",
      "metadata": {
        "id": "67mWzyK0Wj3n",
        "colab_type": "code",
        "colab": {}
      },
      "source": [
        "l1=lista.append(6)"
      ],
      "execution_count": 0,
      "outputs": []
    },
    {
      "cell_type": "code",
      "metadata": {
        "id": "z1S_Fe3oWj3o",
        "colab_type": "code",
        "colab": {}
      },
      "source": [
        "lista"
      ],
      "execution_count": 0,
      "outputs": []
    },
    {
      "cell_type": "code",
      "metadata": {
        "id": "cO_0JNT1Wj3r",
        "colab_type": "code",
        "colab": {}
      },
      "source": [
        "l1"
      ],
      "execution_count": 0,
      "outputs": []
    },
    {
      "cell_type": "code",
      "metadata": {
        "id": "zGQuhrrMWj3t",
        "colab_type": "code",
        "colab": {}
      },
      "source": [
        "lista.insert(1,7)"
      ],
      "execution_count": 0,
      "outputs": []
    },
    {
      "cell_type": "code",
      "metadata": {
        "id": "zU3HfZVEWj3v",
        "colab_type": "code",
        "colab": {}
      },
      "source": [
        "lista"
      ],
      "execution_count": 0,
      "outputs": []
    },
    {
      "cell_type": "code",
      "metadata": {
        "id": "0JK8CCCxWj3w",
        "colab_type": "code",
        "colab": {}
      },
      "source": [
        "lista.extend(lista)"
      ],
      "execution_count": 0,
      "outputs": []
    },
    {
      "cell_type": "code",
      "metadata": {
        "id": "89MX3zBVWj3y",
        "colab_type": "code",
        "colab": {}
      },
      "source": [
        "lista"
      ],
      "execution_count": 0,
      "outputs": []
    },
    {
      "cell_type": "code",
      "metadata": {
        "id": "BmjygYVIWj31",
        "colab_type": "code",
        "colab": {}
      },
      "source": [
        "lista.index(7)"
      ],
      "execution_count": 0,
      "outputs": []
    },
    {
      "cell_type": "code",
      "metadata": {
        "id": "LA3BHAy5Wj33",
        "colab_type": "code",
        "colab": {}
      },
      "source": [
        "lista.remove(7)"
      ],
      "execution_count": 0,
      "outputs": []
    },
    {
      "cell_type": "code",
      "metadata": {
        "id": "RMZosyvCWj35",
        "colab_type": "code",
        "colab": {}
      },
      "source": [
        "lista"
      ],
      "execution_count": 0,
      "outputs": []
    },
    {
      "cell_type": "code",
      "metadata": {
        "id": "PCqYEr5yWj37",
        "colab_type": "code",
        "colab": {}
      },
      "source": [
        "lista.sort()"
      ],
      "execution_count": 0,
      "outputs": []
    },
    {
      "cell_type": "code",
      "metadata": {
        "id": "lZ16cytRWj39",
        "colab_type": "code",
        "colab": {}
      },
      "source": [
        "lista"
      ],
      "execution_count": 0,
      "outputs": []
    },
    {
      "cell_type": "code",
      "metadata": {
        "id": "01inQtcIWj4A",
        "colab_type": "code",
        "colab": {}
      },
      "source": [
        "lista.reverse()\n",
        "lista"
      ],
      "execution_count": 0,
      "outputs": []
    },
    {
      "cell_type": "code",
      "metadata": {
        "id": "bcc4Gl89Wj4B",
        "colab_type": "code",
        "colab": {}
      },
      "source": [
        "lista.pop(2)"
      ],
      "execution_count": 0,
      "outputs": []
    },
    {
      "cell_type": "code",
      "metadata": {
        "id": "X5tCKkigWj4E",
        "colab_type": "code",
        "colab": {}
      },
      "source": [
        "lista"
      ],
      "execution_count": 0,
      "outputs": []
    },
    {
      "cell_type": "code",
      "metadata": {
        "id": "L2TqdIz0Wj4H",
        "colab_type": "code",
        "colab": {}
      },
      "source": [
        "lista.sort().reverse()"
      ],
      "execution_count": 0,
      "outputs": []
    },
    {
      "cell_type": "markdown",
      "metadata": {
        "id": "FQs2W-2aWj4I",
        "colab_type": "text"
      },
      "source": [
        "#### Tuplas\n",
        "\n",
        "- Agrupación de elementos de tamaño fijo.\n",
        "- Son inmutables, no se puede cambiar su tamaño.\n",
        "- Juegan el papel de registros.\n",
        "- Función que devuelve varios valores puede devolver una tupla.\n",
        "- Ejemplo. Lista de coordenadas 3D se puede representar mediante lista de tuplas. "
      ]
    },
    {
      "cell_type": "code",
      "metadata": {
        "id": "5K7Xi9kWWj4I",
        "colab_type": "code",
        "colab": {}
      },
      "source": [
        "tuple = (1,2,\"3\")"
      ],
      "execution_count": 0,
      "outputs": []
    },
    {
      "cell_type": "code",
      "metadata": {
        "id": "QBAXEtHdWj4L",
        "colab_type": "code",
        "colab": {}
      },
      "source": [
        "len(tuple)"
      ],
      "execution_count": 0,
      "outputs": []
    },
    {
      "cell_type": "code",
      "metadata": {
        "id": "UxUyNBjiWj4N",
        "colab_type": "code",
        "colab": {}
      },
      "source": [
        "tuple[2]"
      ],
      "execution_count": 0,
      "outputs": []
    },
    {
      "cell_type": "code",
      "metadata": {
        "id": "XtrQfa4lWj4b",
        "colab_type": "code",
        "colab": {}
      },
      "source": [
        "tuple[2] = \"bye\""
      ],
      "execution_count": 0,
      "outputs": []
    },
    {
      "cell_type": "code",
      "metadata": {
        "id": "yMSkDEToWj4d",
        "colab_type": "code",
        "colab": {}
      },
      "source": [
        "a,b,c=(1,2,3)"
      ],
      "execution_count": 0,
      "outputs": []
    },
    {
      "cell_type": "code",
      "metadata": {
        "id": "JQuNzR4RWj4e",
        "colab_type": "code",
        "colab": {}
      },
      "source": [
        "a"
      ],
      "execution_count": 0,
      "outputs": []
    },
    {
      "cell_type": "code",
      "metadata": {
        "id": "2gBxSUaBWj4h",
        "colab_type": "code",
        "colab": {}
      },
      "source": [
        "b"
      ],
      "execution_count": 0,
      "outputs": []
    },
    {
      "cell_type": "code",
      "metadata": {
        "id": "sRKHToxoWj4i",
        "colab_type": "code",
        "colab": {}
      },
      "source": [
        "c"
      ],
      "execution_count": 0,
      "outputs": []
    },
    {
      "cell_type": "markdown",
      "metadata": {
        "id": "Z24g8WMTWj4k",
        "colab_type": "text"
      },
      "source": [
        "#### Conjuntos\n",
        "\n",
        "- Colecciones de datos sin orden y sin duplicados.\n",
        "- Se representan entre llaves y elementos están separados por comas.\n",
        "- Conjuntos son mutables."
      ]
    },
    {
      "cell_type": "code",
      "metadata": {
        "id": "-ueYYK3qWj4l",
        "colab_type": "code",
        "colab": {}
      },
      "source": [
        "cesta = {'peras','manzanas','peras','manzanas'}"
      ],
      "execution_count": 0,
      "outputs": []
    },
    {
      "cell_type": "code",
      "metadata": {
        "id": "p46YQ6EZWj4m",
        "colab_type": "code",
        "colab": {}
      },
      "source": [
        "cesta"
      ],
      "execution_count": 0,
      "outputs": []
    },
    {
      "cell_type": "code",
      "metadata": {
        "id": "fAxD3hM5Wj4o",
        "colab_type": "code",
        "colab": {}
      },
      "source": [
        "'melocotones' in cesta"
      ],
      "execution_count": 0,
      "outputs": []
    },
    {
      "cell_type": "code",
      "metadata": {
        "id": "gMc0I0DCWj4q",
        "colab_type": "code",
        "colab": {}
      },
      "source": [
        "s = {1,3,5,7,9}"
      ],
      "execution_count": 0,
      "outputs": []
    },
    {
      "cell_type": "code",
      "metadata": {
        "id": "Usx25P-cWj4t",
        "colab_type": "code",
        "colab": {}
      },
      "source": [
        "s.add(10)"
      ],
      "execution_count": 0,
      "outputs": []
    },
    {
      "cell_type": "code",
      "metadata": {
        "id": "hBwrZH1AWj4w",
        "colab_type": "code",
        "colab": {}
      },
      "source": [
        "s"
      ],
      "execution_count": 0,
      "outputs": []
    },
    {
      "cell_type": "markdown",
      "metadata": {
        "id": "txCTXFrgWj40",
        "colab_type": "text"
      },
      "source": [
        "Unión de conjuntos (no modifica conjunto original)."
      ]
    },
    {
      "cell_type": "code",
      "metadata": {
        "id": "rtpA3oqfWj41",
        "colab_type": "code",
        "colab": {}
      },
      "source": [
        "s | {1,2,4}"
      ],
      "execution_count": 0,
      "outputs": []
    },
    {
      "cell_type": "code",
      "metadata": {
        "id": "20oNvFUfWj43",
        "colab_type": "code",
        "colab": {}
      },
      "source": [
        "s"
      ],
      "execution_count": 0,
      "outputs": []
    },
    {
      "cell_type": "markdown",
      "metadata": {
        "id": "WdG9d36XWj45",
        "colab_type": "text"
      },
      "source": [
        "Intersección de cojuntos"
      ]
    },
    {
      "cell_type": "code",
      "metadata": {
        "id": "ALwfWBO8Wj46",
        "colab_type": "code",
        "colab": {}
      },
      "source": [
        "s & {4,7,15}"
      ],
      "execution_count": 0,
      "outputs": []
    },
    {
      "cell_type": "code",
      "metadata": {
        "id": "irETFjOcWj48",
        "colab_type": "code",
        "colab": {}
      },
      "source": [
        "s <= {1,3,5,7,9,10,11}"
      ],
      "execution_count": 0,
      "outputs": []
    },
    {
      "cell_type": "code",
      "metadata": {
        "id": "ro_NwVkQWj49",
        "colab_type": "code",
        "colab": {}
      },
      "source": [
        "s <= {1,2,5,7,9,10,11}"
      ],
      "execution_count": 0,
      "outputs": []
    },
    {
      "cell_type": "code",
      "metadata": {
        "id": "XhoPBBoJWj5A",
        "colab_type": "code",
        "colab": {}
      },
      "source": [
        "s = set()"
      ],
      "execution_count": 0,
      "outputs": []
    },
    {
      "cell_type": "code",
      "metadata": {
        "id": "8nJs3NuCWj5B",
        "colab_type": "code",
        "colab": {}
      },
      "source": [
        "s"
      ],
      "execution_count": 0,
      "outputs": []
    },
    {
      "cell_type": "code",
      "metadata": {
        "id": "6NMFlAGHWj5C",
        "colab_type": "code",
        "colab": {}
      },
      "source": [
        "s1 = {}"
      ],
      "execution_count": 0,
      "outputs": []
    },
    {
      "cell_type": "code",
      "metadata": {
        "id": "_klngb9lWj5F",
        "colab_type": "code",
        "colab": {}
      },
      "source": [
        "s1"
      ],
      "execution_count": 0,
      "outputs": []
    },
    {
      "cell_type": "code",
      "metadata": {
        "id": "OKNdwkWHWj5I",
        "colab_type": "code",
        "colab": {}
      },
      "source": [
        "s1.add(2)"
      ],
      "execution_count": 0,
      "outputs": []
    },
    {
      "cell_type": "markdown",
      "metadata": {
        "id": "8kReTWzsWj5K",
        "colab_type": "text"
      },
      "source": [
        "#### Diccionarios\n",
        "\n",
        "- Estructura muy útil en Python.\n",
        "- Colección no ordenada de pares clave : valor.\n",
        "- Mutables.\n",
        "- Pueden verse como tablas hash.\n",
        "- Propiedades:\n",
        "    - Elementos se acceden mediante clave.\n",
        "    - Elementos se almacenan en orden aleatorio. \n",
        "    - Tamaño variable.\n",
        "    - Pueden contener objetos de cualquier tipo.\n",
        "    - Soportan anidamientos."
      ]
    },
    {
      "cell_type": "code",
      "metadata": {
        "id": "WUUQAdzyWj5L",
        "colab_type": "code",
        "colab": {}
      },
      "source": [
        "tel = {\"juan\":4098,\"ana\":4137}"
      ],
      "execution_count": 0,
      "outputs": []
    },
    {
      "cell_type": "code",
      "metadata": {
        "id": "2zc_vtPTWj5N",
        "colab_type": "code",
        "colab": {}
      },
      "source": [
        "tel[\"ana\"]"
      ],
      "execution_count": 0,
      "outputs": []
    },
    {
      "cell_type": "code",
      "metadata": {
        "id": "3iQQnvhJWj5P",
        "colab_type": "code",
        "colab": {}
      },
      "source": [
        "\"ana\" in tel"
      ],
      "execution_count": 0,
      "outputs": []
    },
    {
      "cell_type": "code",
      "metadata": {
        "id": "mzp2S5n7Wj5R",
        "colab_type": "code",
        "colab": {}
      },
      "source": [
        "tel[\"pedro\"]=4118"
      ],
      "execution_count": 0,
      "outputs": []
    },
    {
      "cell_type": "code",
      "metadata": {
        "id": "Y3Fg8w5cWj5T",
        "colab_type": "code",
        "colab": {}
      },
      "source": [
        "tel"
      ],
      "execution_count": 0,
      "outputs": []
    },
    {
      "cell_type": "code",
      "metadata": {
        "id": "dIr29nYhWj5V",
        "colab_type": "code",
        "colab": {}
      },
      "source": [
        "tel.keys()"
      ],
      "execution_count": 0,
      "outputs": []
    },
    {
      "cell_type": "code",
      "metadata": {
        "id": "Hm1GABNCWj5X",
        "colab_type": "code",
        "colab": {}
      },
      "source": [
        "del tel['ana']"
      ],
      "execution_count": 0,
      "outputs": []
    },
    {
      "cell_type": "code",
      "metadata": {
        "id": "HSeGLFUjWj5Z",
        "colab_type": "code",
        "colab": {}
      },
      "source": [
        "tel"
      ],
      "execution_count": 0,
      "outputs": []
    },
    {
      "cell_type": "code",
      "metadata": {
        "id": "yqysRVmFWj5b",
        "colab_type": "code",
        "colab": {}
      },
      "source": [
        "tel.items()"
      ],
      "execution_count": 0,
      "outputs": []
    },
    {
      "cell_type": "code",
      "metadata": {
        "id": "nNEode4dWj5d",
        "colab_type": "code",
        "colab": {}
      },
      "source": [
        "tel[\"olga\"]"
      ],
      "execution_count": 0,
      "outputs": []
    },
    {
      "cell_type": "markdown",
      "metadata": {
        "id": "Z7veS5xOWj5j",
        "colab_type": "text"
      },
      "source": [
        "### Estructuras de control\n",
        "\n",
        "Estructuras habituales:\n",
        "    - Ifs.\n",
        "    - Bucles for.\n",
        "    - Bucles while."
      ]
    },
    {
      "cell_type": "code",
      "metadata": {
        "id": "zWBWTkukWj5k",
        "colab_type": "code",
        "colab": {}
      },
      "source": [
        "def signo(x):\n",
        "    if x < 0:\n",
        "        return \"negativo\"\n",
        "    elif x > 0:\n",
        "        return \"positivo\"\n",
        "    else:\n",
        "        return \"0\""
      ],
      "execution_count": 0,
      "outputs": []
    },
    {
      "cell_type": "code",
      "metadata": {
        "id": "nCMNZHvJWj5n",
        "colab_type": "code",
        "colab": {}
      },
      "source": [
        "def media(lista):\n",
        "    suma = 0\n",
        "    for x in lista:\n",
        "        suma += x\n",
        "    return suma/len(lista)"
      ],
      "execution_count": 0,
      "outputs": []
    },
    {
      "cell_type": "markdown",
      "metadata": {
        "id": "yKVTwV6mWj5o",
        "colab_type": "text"
      },
      "source": [
        "### Patrones de iteración"
      ]
    },
    {
      "cell_type": "code",
      "metadata": {
        "id": "NJyMfU_UWj5p",
        "colab_type": "code",
        "colab": {}
      },
      "source": [
        "for i, col in enumerate(['rojo','azul','amarillo']):\n",
        "    print(i,col)"
      ],
      "execution_count": 0,
      "outputs": []
    },
    {
      "cell_type": "code",
      "metadata": {
        "id": "PZyMYF-mWj5r",
        "colab_type": "code",
        "colab": {}
      },
      "source": [
        "preguntas = ['nombre','apellido','color favorito']"
      ],
      "execution_count": 0,
      "outputs": []
    },
    {
      "cell_type": "code",
      "metadata": {
        "id": "sWA_cNSIWj5t",
        "colab_type": "code",
        "colab": {}
      },
      "source": [
        "respuestas = ['Juan','Pérez','rojo']"
      ],
      "execution_count": 0,
      "outputs": []
    },
    {
      "cell_type": "code",
      "metadata": {
        "id": "7CTumXepWj5v",
        "colab_type": "code",
        "colab": {}
      },
      "source": [
        "for p, r in zip(preguntas,respuestas):\n",
        "    print('Mi {0} es {1}.'.format(p,r))"
      ],
      "execution_count": 0,
      "outputs": []
    },
    {
      "cell_type": "code",
      "metadata": {
        "id": "y6WmBMYpWj5x",
        "colab_type": "code",
        "colab": {}
      },
      "source": [
        "for i in reversed(range(1,10,2)):\n",
        "    print(i,end=\"-\")"
      ],
      "execution_count": 0,
      "outputs": []
    },
    {
      "cell_type": "markdown",
      "metadata": {
        "id": "JJ_G3yLXWj5z",
        "colab_type": "text"
      },
      "source": [
        "### Instalación de módulos"
      ]
    },
    {
      "cell_type": "code",
      "metadata": {
        "id": "ujr5-JzCWj5z",
        "colab_type": "code",
        "colab": {}
      },
      "source": [
        "!pip install numpy"
      ],
      "execution_count": 0,
      "outputs": []
    },
    {
      "cell_type": "markdown",
      "metadata": {
        "id": "WgO3IqCZWj52",
        "colab_type": "text"
      },
      "source": [
        "### Tipado estático\n",
        "\n",
        "Por defecto en Python el tipado es dinámico, pero..."
      ]
    },
    {
      "cell_type": "code",
      "metadata": {
        "id": "gCchPRYoWj52",
        "colab_type": "code",
        "colab": {}
      },
      "source": [
        "def obtener_nombre(nombre_completo):\n",
        "    return nombre_completo.split(\" \")[0]\n",
        "\n",
        "fallback_name = {\n",
        "    \"nombre\": \"Pepe\",\n",
        "    \"apellido\": \"Perez\"\n",
        "}"
      ],
      "execution_count": 0,
      "outputs": []
    },
    {
      "cell_type": "code",
      "metadata": {
        "id": "Vabi53YyWj55",
        "colab_type": "code",
        "colab": {}
      },
      "source": [
        "raw = input(\"Introduce tu nombre: \")\n",
        "nombre = obtener_nombre(raw)\n",
        "\n",
        "if not nombre:\n",
        "    nombre = obtener_nombre(fallback_name)\n",
        "\n",
        "print(f\"¡Hola, {nombre}!\")"
      ],
      "execution_count": 0,
      "outputs": []
    },
    {
      "cell_type": "markdown",
      "metadata": {
        "id": "F_U0XCGOWj57",
        "colab_type": "text"
      },
      "source": [
        "Se pueden comprobar los tipos usando el paquete de Python [mypy](http://mypy-lang.org/). Para usarlo en los notebooks de Jupyter hay que instalar mypy y la [celda mágica](https://ipython.readthedocs.io/en/stable/interactive/magics.html) [``typecheck``](https://gist.github.com/knowsuchagency/f7b2203dd613756a45f816d6809f01a6)."
      ]
    },
    {
      "cell_type": "code",
      "metadata": {
        "id": "171V5B1UWj57",
        "colab_type": "code",
        "colab": {}
      },
      "source": [
        "!pip install mypy\n",
        "!wget https://raw.githubusercontent.com/IA1920/Utils/master/typecheck.py"
      ],
      "execution_count": 0,
      "outputs": []
    },
    {
      "cell_type": "code",
      "metadata": {
        "id": "PDkAWyH5Wj59",
        "colab_type": "code",
        "colab": {}
      },
      "source": [
        "from typecheck import *"
      ],
      "execution_count": 0,
      "outputs": []
    },
    {
      "cell_type": "code",
      "metadata": {
        "id": "RbnIMFZPWj5_",
        "colab_type": "code",
        "colab": {}
      },
      "source": [
        "%%typecheck\n",
        "from typing import Dict\n",
        "\n",
        "def obtener_nombre(nombre_completo:str)->str:\n",
        "    return nombre_completo.split(\" \")[0]\n",
        "\n",
        "fallback_name : Dict[str,str] = {\n",
        "    \"nombre\": \"Pepe\",\n",
        "    \"apellido\": \"Perez\"\n",
        "}\n",
        "\n",
        "raw : str = input(\"Introduce tu nombre: \")\n",
        "nombre : str = obtener_nombre(raw)\n",
        "\n",
        "if not nombre:\n",
        "    nombre = obtener_nombre(fallback_name)\n",
        "\n",
        "print(f\"¡Hola, {nombre}!\")"
      ],
      "execution_count": 0,
      "outputs": []
    },
    {
      "cell_type": "markdown",
      "metadata": {
        "id": "45CSA6YyWj6C",
        "colab_type": "text"
      },
      "source": [
        "Tipos básicos:\n",
        "- ``int``, ``float``, ``complex``.\n",
        "- ``str``.\n",
        "- ``bool``.\n",
        "\n",
        "Tipos complejos (usando módulo [typing](https://docs.python.org/3.6/library/typing.html)):\n",
        "- ``Dict``, ``List``, ``Tuple``, ``Set``, ``Callable``, ``Optional``, ``Any``.\n",
        "- Parámetros entre corchetes: ``Dict[str,int]``, ``List[int]``.\n",
        "- Generics, tipos propios, ..."
      ]
    },
    {
      "cell_type": "markdown",
      "metadata": {
        "id": "V-ZBd7NBWj6D",
        "colab_type": "text"
      },
      "source": [
        "Se pueden ver los tipos de los objetos."
      ]
    },
    {
      "cell_type": "code",
      "metadata": {
        "id": "yvbxXOo2Wj6D",
        "colab_type": "code",
        "colab": {}
      },
      "source": [
        "from typing import *"
      ],
      "execution_count": 0,
      "outputs": []
    },
    {
      "cell_type": "code",
      "metadata": {
        "id": "pDAvaCU-Wj6G",
        "colab_type": "code",
        "colab": {}
      },
      "source": [
        "%%typecheck\n",
        "reveal_type(1)\n",
        "reveal_type(len)"
      ],
      "execution_count": 0,
      "outputs": []
    },
    {
      "cell_type": "markdown",
      "metadata": {
        "id": "-PFN3bPXWj6W",
        "colab_type": "text"
      },
      "source": [
        "### Definición por comprensión\n",
        "\n",
        "Definición de listas, tuplas y conjuntos:\n",
        "- Por extensión: dando todos sus elementos.\n",
        "- Por comprensión: elementos se definen por propiedades en común."
      ]
    },
    {
      "cell_type": "code",
      "metadata": {
        "id": "fxH2qJwmWj6X",
        "colab_type": "code",
        "colab": {}
      },
      "source": [
        "[a for a in range(0,6)]"
      ],
      "execution_count": 0,
      "outputs": []
    },
    {
      "cell_type": "code",
      "metadata": {
        "id": "SvPEfRWKWj6Z",
        "colab_type": "code",
        "colab": {}
      },
      "source": [
        "[a for a in range(0,6) if a % 2 == 0 ]"
      ],
      "execution_count": 0,
      "outputs": []
    },
    {
      "cell_type": "code",
      "metadata": {
        "id": "2uHc4kXQWj6b",
        "colab_type": "code",
        "colab": {}
      },
      "source": [
        "[a*a for a in range(0,6) if a % 2 == 0 ]"
      ],
      "execution_count": 0,
      "outputs": []
    },
    {
      "cell_type": "code",
      "metadata": {
        "id": "xuKAm35xWj6d",
        "colab_type": "code",
        "colab": {}
      },
      "source": [
        "[(x,y) for x in [1,2,3] for y in ['a','b','c']]"
      ],
      "execution_count": 0,
      "outputs": []
    },
    {
      "cell_type": "code",
      "metadata": {
        "id": "oftKEKRjWj6f",
        "colab_type": "code",
        "colab": {}
      },
      "source": [
        "tuple(a for a in range(6) if a % 2 == 0)"
      ],
      "execution_count": 0,
      "outputs": []
    },
    {
      "cell_type": "code",
      "metadata": {
        "id": "7q0TIuZFWj6h",
        "colab_type": "code",
        "colab": {}
      },
      "source": [
        "tuple(a%3 for a in range(9))"
      ],
      "execution_count": 0,
      "outputs": []
    },
    {
      "cell_type": "markdown",
      "metadata": {
        "id": "RpM1Pz2FWj6j",
        "colab_type": "text"
      },
      "source": [
        "#### Ejercicios\n",
        "\n",
        "Usando listas por comprensión.\n",
        "\n",
        "Definir una función de determine si un número es primo."
      ]
    },
    {
      "cell_type": "code",
      "metadata": {
        "id": "d1PadhQZWj6j",
        "colab_type": "code",
        "colab": {}
      },
      "source": [
        "def esPrimo(n):\n",
        "    pass"
      ],
      "execution_count": 0,
      "outputs": []
    },
    {
      "cell_type": "markdown",
      "metadata": {
        "id": "AV-DmSMzWj6l",
        "colab_type": "text"
      },
      "source": [
        "Dar la lista de los números primos entre 1 y 5000."
      ]
    },
    {
      "cell_type": "code",
      "metadata": {
        "id": "bXKEMbMgWj6m",
        "colab_type": "code",
        "colab": {}
      },
      "source": [
        ""
      ],
      "execution_count": 0,
      "outputs": []
    },
    {
      "cell_type": "markdown",
      "metadata": {
        "id": "dNCJrxeEWj6o",
        "colab_type": "text"
      },
      "source": [
        "Definir una función que dado n calcula el valor de $\\pi$ mediante la expresión $4*\\sum\\limits_{i=0}^n \\frac{(-1)^i}{(2n+1)}$. Pista. ¿Qué hace la función ``sum``?"
      ]
    },
    {
      "cell_type": "code",
      "metadata": {
        "id": "s3T-MtscWj6o",
        "colab_type": "code",
        "colab": {}
      },
      "source": [
        "def approx_pi(n):\n",
        "    pass"
      ],
      "execution_count": 0,
      "outputs": []
    },
    {
      "cell_type": "markdown",
      "metadata": {
        "id": "N1cMFokKWj6r",
        "colab_type": "text"
      },
      "source": [
        "### Tipos iterables\n",
        "\n",
        "- Tipos que se pueden recorrer.\n",
        "- Tienen una noción de siguiente.\n",
        "- Ejemplos: cadenas, tuplas, listas, conjuntos, diccionarios.\n",
        "- Se usan en bucles ``for item in iterable:``.\n",
        "- Se generan:\n",
        "    - Mediante funciones como ``range``, ``enumerate``, ``zip``, ...\n",
        "    - Por comprensión."
      ]
    },
    {
      "cell_type": "code",
      "metadata": {
        "id": "Q7iD_xAwWj6r",
        "colab_type": "code",
        "colab": {}
      },
      "source": [
        "range(1,10,2)"
      ],
      "execution_count": 0,
      "outputs": []
    },
    {
      "cell_type": "code",
      "metadata": {
        "id": "x-a6XMe6Wj6t",
        "colab_type": "code",
        "colab": {}
      },
      "source": [
        "list(range(1,10,2))"
      ],
      "execution_count": 0,
      "outputs": []
    },
    {
      "cell_type": "code",
      "metadata": {
        "id": "NsEuB3cXWj6u",
        "colab_type": "code",
        "colab": {}
      },
      "source": [
        "(x * x for x in range(1,10,3))"
      ],
      "execution_count": 0,
      "outputs": []
    },
    {
      "cell_type": "code",
      "metadata": {
        "id": "HwYIfcxEWj6x",
        "colab_type": "code",
        "colab": {}
      },
      "source": [
        "list((x * x for x in range(1,10,3)))"
      ],
      "execution_count": 0,
      "outputs": []
    },
    {
      "cell_type": "markdown",
      "metadata": {
        "id": "aciNFqtHWj6z",
        "colab_type": "text"
      },
      "source": [
        "### Excepciones\n",
        "\n",
        "- Existen excepciones como en otros lenguajes.\n",
        "- Sintaxis ``try ... except ``.\n",
        "- Para lanzar excepciones se utiliza ``raise``.\n",
        "- Excepciones heredan de ``BaseException``.\n",
        "- [Excepciones comunes](https://docs.python.org/3/library/exceptions.html#concrete-exceptions).\n",
        "- [Jerarquía de excepciones](https://docs.python.org/3/library/exceptions.html#exception-hierarchy)."
      ]
    },
    {
      "cell_type": "code",
      "metadata": {
        "id": "wzP7wVxsWj6z",
        "colab_type": "code",
        "colab": {}
      },
      "source": [
        "def devuelve_doble():\n",
        "    x = int(input(\"Introduce un número: \"))\n",
        "    return 2*x"
      ],
      "execution_count": 0,
      "outputs": []
    },
    {
      "cell_type": "code",
      "metadata": {
        "id": "qM2X_R9SWj61",
        "colab_type": "code",
        "colab": {}
      },
      "source": [
        "devuelve_doble()"
      ],
      "execution_count": 0,
      "outputs": []
    },
    {
      "cell_type": "code",
      "metadata": {
        "id": "wjroe3PbWj62",
        "colab_type": "code",
        "colab": {}
      },
      "source": [
        "def devuelve_doble():\n",
        "    while True:\n",
        "        try:\n",
        "            x = int(input(\"Introduce un número: \"))\n",
        "            return 2*x\n",
        "        except ValueError:\n",
        "            print(\"No es un número, inténtelo de nuevo\")"
      ],
      "execution_count": 0,
      "outputs": []
    },
    {
      "cell_type": "code",
      "metadata": {
        "id": "KhOmAzsMWj65",
        "colab_type": "code",
        "colab": {}
      },
      "source": [
        "devuelve_doble()"
      ],
      "execution_count": 0,
      "outputs": []
    },
    {
      "cell_type": "markdown",
      "metadata": {
        "id": "7M5TKNxlWj66",
        "colab_type": "text"
      },
      "source": [
        "### Segundo orden\n",
        "\n",
        "Tipo de dato \"función\" (``Callable``):\n",
        "\n",
        " - Expresiones lambda.\n",
        " - Funciones que devuelven funciones.\n",
        " - Funciones que reciben funciones como argumento."
      ]
    },
    {
      "cell_type": "code",
      "metadata": {
        "id": "R8K32OKOWj66",
        "colab_type": "code",
        "colab": {}
      },
      "source": [
        "lambda x,y: x+y*3"
      ],
      "execution_count": 0,
      "outputs": []
    },
    {
      "cell_type": "code",
      "metadata": {
        "id": "x6EMmElhWj68",
        "colab_type": "code",
        "colab": {}
      },
      "source": [
        "(lambda x,y: x+y*3)(2,3)"
      ],
      "execution_count": 0,
      "outputs": []
    },
    {
      "cell_type": "code",
      "metadata": {
        "id": "qTUBXAmrWj6-",
        "colab_type": "code",
        "colab": {}
      },
      "source": [
        "from typing import *\n",
        "\n",
        "def incremento(n:int)-> Callable[[int],int]:\n",
        "    return lambda x: x+n"
      ],
      "execution_count": 0,
      "outputs": []
    },
    {
      "cell_type": "code",
      "metadata": {
        "id": "uMAJrqUkWj7A",
        "colab_type": "code",
        "colab": {}
      },
      "source": [
        "f2 = incremento(2)"
      ],
      "execution_count": 0,
      "outputs": []
    },
    {
      "cell_type": "code",
      "metadata": {
        "id": "3NgXYgaxWj7B",
        "colab_type": "code",
        "colab": {}
      },
      "source": [
        "f2(5)"
      ],
      "execution_count": 0,
      "outputs": []
    },
    {
      "cell_type": "code",
      "metadata": {
        "id": "gtvxxIrKWj7D",
        "colab_type": "code",
        "colab": {}
      },
      "source": [
        "def aplica (f: Callable[[int],int],l:List[int])->List[int]:\n",
        "    return [f(x) for x in l]"
      ],
      "execution_count": 0,
      "outputs": []
    },
    {
      "cell_type": "code",
      "metadata": {
        "id": "QILGb1XzWj7F",
        "colab_type": "code",
        "colab": {}
      },
      "source": [
        "aplica(incremento(5),[1,2,3])"
      ],
      "execution_count": 0,
      "outputs": []
    },
    {
      "cell_type": "markdown",
      "metadata": {
        "id": "f2QCud4TWj7H",
        "colab_type": "text"
      },
      "source": [
        "### Ficheros\n",
        "\n",
        "- Existe en Python el tipo fichero.\n",
        "- Ficheros usan funciones específicas de cada sistema operativo para manipularlos. \n",
        "- Apertura:\n",
        "    - ``open(file,mode)``."
      ]
    },
    {
      "cell_type": "code",
      "metadata": {
        "id": "t1erIYx6Wj7H",
        "colab_type": "code",
        "colab": {}
      },
      "source": [
        "??open"
      ],
      "execution_count": 0,
      "outputs": []
    },
    {
      "cell_type": "markdown",
      "metadata": {
        "id": "43cb9UKbWj7J",
        "colab_type": "text"
      },
      "source": [
        "Métodos sobre ficheros:\n",
        "- ``f.read()``\n",
        "- ``f.readline()``\n",
        "- ``f.write()``\n",
        "- ``f.close()``\n",
        "\n",
        "    "
      ]
    },
    {
      "cell_type": "code",
      "metadata": {
        "id": "EGLIBofHWj7K",
        "colab_type": "code",
        "colab": {}
      },
      "source": [
        "fichero = open(\"prueba.txt\",'w')"
      ],
      "execution_count": 0,
      "outputs": []
    },
    {
      "cell_type": "code",
      "metadata": {
        "id": "-kGrEiMnWj7M",
        "colab_type": "code",
        "colab": {}
      },
      "source": [
        "fichero.write(\"Esta es la primera línea\\n\")\n",
        "fichero.write(\"Vamos por la segunda\\n\")\n",
        "fichero.write(\"La tercera ya llegó\\n\")\n",
        "fichero.write(\"Y finalizamos con la cuarta\\n\")"
      ],
      "execution_count": 0,
      "outputs": []
    },
    {
      "cell_type": "code",
      "metadata": {
        "id": "8aoIoIotWj7O",
        "colab_type": "code",
        "colab": {}
      },
      "source": [
        "fichero.close()"
      ],
      "execution_count": 0,
      "outputs": []
    },
    {
      "cell_type": "code",
      "metadata": {
        "id": "RU4IUp8yWj7P",
        "colab_type": "code",
        "colab": {}
      },
      "source": [
        "f = open(\"prueba.txt\")"
      ],
      "execution_count": 0,
      "outputs": []
    },
    {
      "cell_type": "code",
      "metadata": {
        "id": "JojHTBsvWj7R",
        "colab_type": "code",
        "colab": {}
      },
      "source": [
        "s = f.read()"
      ],
      "execution_count": 0,
      "outputs": []
    },
    {
      "cell_type": "code",
      "metadata": {
        "id": "vqftIf1xWj7T",
        "colab_type": "code",
        "colab": {}
      },
      "source": [
        "s"
      ],
      "execution_count": 0,
      "outputs": []
    },
    {
      "cell_type": "code",
      "metadata": {
        "id": "QNBEB0owWj7V",
        "colab_type": "code",
        "colab": {}
      },
      "source": [
        "f.close()"
      ],
      "execution_count": 0,
      "outputs": []
    },
    {
      "cell_type": "code",
      "metadata": {
        "id": "1Dj0AFGvWj7X",
        "colab_type": "code",
        "colab": {}
      },
      "source": [
        "with open(\"prueba.txt\") as f:\n",
        "    primera = f.readline()"
      ],
      "execution_count": 0,
      "outputs": []
    },
    {
      "cell_type": "code",
      "metadata": {
        "id": "RKB5K8m7Wj7Z",
        "colab_type": "code",
        "colab": {}
      },
      "source": [
        "primera"
      ],
      "execution_count": 0,
      "outputs": []
    },
    {
      "cell_type": "code",
      "metadata": {
        "id": "6BGUUGZOWj7b",
        "colab_type": "code",
        "colab": {}
      },
      "source": [
        "f = open(\"prueba.txt\")"
      ],
      "execution_count": 0,
      "outputs": []
    },
    {
      "cell_type": "code",
      "metadata": {
        "id": "0abMRKkxWj7d",
        "colab_type": "code",
        "colab": {}
      },
      "source": [
        "s1 = f.readline()"
      ],
      "execution_count": 0,
      "outputs": []
    },
    {
      "cell_type": "code",
      "metadata": {
        "id": "2HsuTTHqWj7e",
        "colab_type": "code",
        "colab": {}
      },
      "source": [
        "s1"
      ],
      "execution_count": 0,
      "outputs": []
    },
    {
      "cell_type": "code",
      "metadata": {
        "id": "7A7lkE2DWj7h",
        "colab_type": "code",
        "colab": {}
      },
      "source": [
        "f.readline()"
      ],
      "execution_count": 0,
      "outputs": []
    },
    {
      "cell_type": "code",
      "metadata": {
        "id": "EHqzES6_Wj7j",
        "colab_type": "code",
        "colab": {}
      },
      "source": [
        "f.readline()"
      ],
      "execution_count": 0,
      "outputs": []
    },
    {
      "cell_type": "code",
      "metadata": {
        "id": "QlpWyBbSWj7k",
        "colab_type": "code",
        "colab": {}
      },
      "source": [
        "f.readline()"
      ],
      "execution_count": 0,
      "outputs": []
    },
    {
      "cell_type": "code",
      "metadata": {
        "id": "glKlNZwEWj7m",
        "colab_type": "code",
        "colab": {}
      },
      "source": [
        "f.readline()"
      ],
      "execution_count": 0,
      "outputs": []
    },
    {
      "cell_type": "code",
      "metadata": {
        "id": "PeJO4DK1Wj7o",
        "colab_type": "code",
        "colab": {}
      },
      "source": [
        "f.close()"
      ],
      "execution_count": 0,
      "outputs": []
    },
    {
      "cell_type": "code",
      "metadata": {
        "id": "RQ7hCQ5bWj7q",
        "colab_type": "code",
        "colab": {}
      },
      "source": [
        "for line in open(\"prueba.txt\"):\n",
        "    print(line)"
      ],
      "execution_count": 0,
      "outputs": []
    },
    {
      "cell_type": "code",
      "metadata": {
        "id": "UT4ek8AZWj7s",
        "colab_type": "code",
        "colab": {}
      },
      "source": [
        "with open(\"prueba.txt\") as f:\n",
        "    for line in f:\n",
        "        print(line)"
      ],
      "execution_count": 0,
      "outputs": []
    },
    {
      "cell_type": "markdown",
      "metadata": {
        "id": "0mmeTimhWj7u",
        "colab_type": "text"
      },
      "source": [
        "### Clases\n",
        "\n",
        "Python permite trabajar con el paradigma de Programación Orientada a Objetos (POO)."
      ]
    },
    {
      "cell_type": "code",
      "metadata": {
        "id": "NEsxqJafWj7u",
        "colab_type": "code",
        "colab": {}
      },
      "source": [
        "import math"
      ],
      "execution_count": 0,
      "outputs": []
    },
    {
      "cell_type": "code",
      "metadata": {
        "id": "XFSbi5-cWj7w",
        "colab_type": "code",
        "colab": {}
      },
      "source": [
        "# La clase punto hereda de object para así poder redefinir métodos\n",
        "class Punto(object):\n",
        "    # Constructor\n",
        "    def __init__(self,x=0,y=0):\n",
        "        self.x = x\n",
        "        self.y = y\n",
        "      \n",
        "    # Métodos de nuestra clase\n",
        "    def distancia_al_origen(self):\n",
        "        return math.hypot(self.x,self.y)\n",
        "    \n",
        "    # Redefinimos método __eq__ de la clase object\n",
        "    def __eq__(self, other):\n",
        "        return self.x==other.x and self.y==other.y\n",
        "    \n",
        "    def __str__(self):\n",
        "        return \"({0.x!r},{0.y!r})\".format(self)"
      ],
      "execution_count": 0,
      "outputs": []
    },
    {
      "cell_type": "code",
      "metadata": {
        "id": "oCNx6UYvWj7z",
        "colab_type": "code",
        "colab": {}
      },
      "source": [
        "p1 = Punto()"
      ],
      "execution_count": 0,
      "outputs": []
    },
    {
      "cell_type": "code",
      "metadata": {
        "id": "RqjytC4WWj8A",
        "colab_type": "code",
        "colab": {}
      },
      "source": [
        "p2 = Punto(3,4)"
      ],
      "execution_count": 0,
      "outputs": []
    },
    {
      "cell_type": "code",
      "metadata": {
        "id": "mP7mlQXuWj8C",
        "colab_type": "code",
        "colab": {}
      },
      "source": [
        "p1"
      ],
      "execution_count": 0,
      "outputs": []
    },
    {
      "cell_type": "code",
      "metadata": {
        "id": "APBC-OWMWj8E",
        "colab_type": "code",
        "colab": {}
      },
      "source": [
        "str(p1)"
      ],
      "execution_count": 0,
      "outputs": []
    },
    {
      "cell_type": "code",
      "metadata": {
        "id": "vU_lagrSWj8F",
        "colab_type": "code",
        "colab": {}
      },
      "source": [
        "str(p2)"
      ],
      "execution_count": 0,
      "outputs": []
    },
    {
      "cell_type": "code",
      "metadata": {
        "id": "erUzem7FWj8H",
        "colab_type": "code",
        "colab": {}
      },
      "source": [
        "p1.x"
      ],
      "execution_count": 0,
      "outputs": []
    },
    {
      "cell_type": "code",
      "metadata": {
        "id": "5dfMfeDmWj8J",
        "colab_type": "code",
        "colab": {}
      },
      "source": [
        "p2.y"
      ],
      "execution_count": 0,
      "outputs": []
    },
    {
      "cell_type": "code",
      "metadata": {
        "id": "_ityPZXAWj8L",
        "colab_type": "code",
        "colab": {}
      },
      "source": [
        "p1 == p2"
      ],
      "execution_count": 0,
      "outputs": []
    },
    {
      "cell_type": "code",
      "metadata": {
        "id": "ZivDOWp1Wj8N",
        "colab_type": "code",
        "colab": {}
      },
      "source": [
        "p2.distancia_al_origen()"
      ],
      "execution_count": 0,
      "outputs": []
    },
    {
      "cell_type": "code",
      "metadata": {
        "id": "npd_llUqWj8P",
        "colab_type": "code",
        "colab": {}
      },
      "source": [
        "p1.x=3"
      ],
      "execution_count": 0,
      "outputs": []
    },
    {
      "cell_type": "code",
      "metadata": {
        "id": "PXHZkqB1Wj8Q",
        "colab_type": "code",
        "colab": {}
      },
      "source": [
        "str(p1)"
      ],
      "execution_count": 0,
      "outputs": []
    },
    {
      "cell_type": "code",
      "metadata": {
        "id": "39YgpFCLWj8S",
        "colab_type": "code",
        "colab": {}
      },
      "source": [
        "p1.y=1"
      ],
      "execution_count": 0,
      "outputs": []
    },
    {
      "cell_type": "code",
      "metadata": {
        "id": "yUcCKeXAWj8U",
        "colab_type": "code",
        "colab": {}
      },
      "source": [
        "p1.distancia_al_origen()"
      ],
      "execution_count": 0,
      "outputs": []
    },
    {
      "cell_type": "markdown",
      "metadata": {
        "id": "4TKMvJ13Wj8V",
        "colab_type": "text"
      },
      "source": [
        "Por defecto en Python todas las variables y métodos son públicos. Si queremos hacerlos privados, tenemos que utilizar el prefijo ``__`` (dos guiones bajos)."
      ]
    },
    {
      "cell_type": "code",
      "metadata": {
        "id": "BnQCuYXZWj8W",
        "colab_type": "code",
        "colab": {}
      },
      "source": [
        "class A():\n",
        "    def __init__(self,x):\n",
        "        self.__x = x\n",
        "    \n",
        "    def printX(self):\n",
        "        print(self.__x)"
      ],
      "execution_count": 0,
      "outputs": []
    },
    {
      "cell_type": "code",
      "metadata": {
        "id": "9fzioK-XWj8Z",
        "colab_type": "code",
        "colab": {}
      },
      "source": [
        "a =  A(5)"
      ],
      "execution_count": 0,
      "outputs": []
    },
    {
      "cell_type": "code",
      "metadata": {
        "id": "8ssPMaSjWj8a",
        "colab_type": "code",
        "colab": {}
      },
      "source": [
        "a.printX()"
      ],
      "execution_count": 0,
      "outputs": []
    },
    {
      "cell_type": "code",
      "metadata": {
        "id": "rQkyHVpoWj8c",
        "colab_type": "code",
        "colab": {}
      },
      "source": [
        "a.__x"
      ],
      "execution_count": 0,
      "outputs": []
    },
    {
      "cell_type": "markdown",
      "metadata": {
        "id": "5UAAU6iCWj8d",
        "colab_type": "text"
      },
      "source": [
        "##### Herencia"
      ]
    },
    {
      "cell_type": "code",
      "metadata": {
        "id": "eIYw2x-8Wj8f",
        "colab_type": "code",
        "colab": {}
      },
      "source": [
        "class Circulo(Punto):\n",
        "\n",
        "    def __init__(self,radio,x=0,y=0):\n",
        "        Punto.__init__(self,x,y) # super(Punto,self).__init__(x,y)\n",
        "        self.radio = radio\n",
        "      \n",
        "    def distacia_del_borde_al_origen(self):\n",
        "        return abs(self.distancia_al_origen()-self.radio)\n",
        "  \n",
        "    def area(self):\n",
        "        return math.pi * (self.radio**2)\n",
        "  \n",
        "    def circunferencia(self):\n",
        "        return 2 * math.pi * self.radio\n",
        "  \n",
        "    def __eq__(self, other):\n",
        "        return self.radio == other.radio and super().__eq__(other)\n",
        "  \n",
        "    def __str__(self):\n",
        "        return \"Circulo({0.radio!r},{0.x!r},{0.y!r}) \".format(self)\n"
      ],
      "execution_count": 0,
      "outputs": []
    },
    {
      "cell_type": "code",
      "metadata": {
        "id": "aa4o4aLuWj8g",
        "colab_type": "code",
        "colab": {}
      },
      "source": [
        "p = Punto(3,4)"
      ],
      "execution_count": 0,
      "outputs": []
    },
    {
      "cell_type": "code",
      "metadata": {
        "id": "Z0ML6supWj8i",
        "colab_type": "code",
        "colab": {}
      },
      "source": [
        "c = Circulo(1,3,4)"
      ],
      "execution_count": 0,
      "outputs": []
    },
    {
      "cell_type": "code",
      "metadata": {
        "id": "vVSn-RcVWj8k",
        "colab_type": "code",
        "colab": {}
      },
      "source": [
        "str(p)"
      ],
      "execution_count": 0,
      "outputs": []
    },
    {
      "cell_type": "code",
      "metadata": {
        "id": "xFPyYTj8Wj8l",
        "colab_type": "code",
        "colab": {}
      },
      "source": [
        "str(c)"
      ],
      "execution_count": 0,
      "outputs": []
    },
    {
      "cell_type": "code",
      "metadata": {
        "id": "Wqz3kePpWj8m",
        "colab_type": "code",
        "colab": {}
      },
      "source": [
        "p.distancia_al_origen()"
      ],
      "execution_count": 0,
      "outputs": []
    },
    {
      "cell_type": "code",
      "metadata": {
        "id": "Ynsn_lsgWj8o",
        "colab_type": "code",
        "colab": {}
      },
      "source": [
        "c.distancia_al_origen()"
      ],
      "execution_count": 0,
      "outputs": []
    },
    {
      "cell_type": "code",
      "metadata": {
        "id": "3_FK9FXoWj8r",
        "colab_type": "code",
        "colab": {}
      },
      "source": [
        "c.distacia_del_borde_al_origen()"
      ],
      "execution_count": 0,
      "outputs": []
    },
    {
      "cell_type": "markdown",
      "metadata": {
        "id": "puIFQrN7Wj8t",
        "colab_type": "text"
      },
      "source": [
        "##### Interfaces\n",
        "\n",
        "No existe la palabra clave ``interface``, hay que definir clases completamente abstractas (al estilo de lo que vimos en POO para C++)."
      ]
    },
    {
      "cell_type": "code",
      "metadata": {
        "id": "yp4k706fWj8u",
        "colab_type": "code",
        "colab": {}
      },
      "source": [
        "import abc\n",
        "\n",
        "class Repository(metaclass=abc.ABCMeta):\n",
        "    \n",
        "    @abc.abstractmethod\n",
        "    def get_employee(self,company_name,id):\n",
        "        pass"
      ],
      "execution_count": 0,
      "outputs": []
    },
    {
      "cell_type": "markdown",
      "metadata": {
        "id": "ZQwzmFQMWj8v",
        "colab_type": "text"
      },
      "source": [
        "#### Y mucho más...\n",
        "\n",
        "- Más métodos y operaciones.\n",
        "- Otros tipos de datos: decimales, tuplas con nombre, conjuntos inmutables, ...\n",
        "- Decoraciones.\n",
        "- Generadores definidos por el usuario.\n",
        "- Paquetes y espacios de nombres.\n",
        "- Documentación, pruebas, depurado de programas. "
      ]
    },
    {
      "cell_type": "markdown",
      "metadata": {
        "id": "T-a8hG5AWj8w",
        "colab_type": "text"
      },
      "source": [
        "#### Biblioteca estándar\n",
        "\n",
        "- Interacción con el sistema operativo, eficiencia.\n",
        "- Comodines para los nombres de ficheros.\n",
        "- Argumentos a través de línea de comandos.\n",
        "- Manejo de errores, de cadenas, control de calidad.\n",
        "- Operaciones matemáticas.\n",
        "- Programación en Internet, XML.\n",
        "- ...\n"
      ]
    },
    {
      "cell_type": "markdown",
      "metadata": {
        "id": "2U9lK5qWWj8w",
        "colab_type": "text"
      },
      "source": [
        "#### Estilo\n",
        "\n",
        "[Guía de estilo](https://www.python.org/dev/peps/pep-0008/):\n",
        "\n",
        "- Utilizar 4 espacios o tabulación para el sangrado.\n",
        "- Una línea no debe contener más de 79 caracteres.\n",
        "- Separar definiciones de funciones, clases y bloques de código con líneas en blanco.\n",
        "- Líneas de comentario deben ser independientes.\n",
        "- Incluir entre espacios los operadores, ponerlos tras las comas, pero no con paréntesis: ``a = f(2, 3) + g(6)``.\n",
        "- Utilizar CamelCase para nombrar las clases, y minúsculas y guiones bajos para las funciones y métodos. Usa self para el primer argumento del método de una clase. \n",
        "- Utiliza texto plano (ASCII) o, si es estrictamente necesario, utf-8. \n",
        "- Utiliza sólo caracteres ASCII para los identificadores. "
      ]
    },
    {
      "cell_type": "markdown",
      "metadata": {
        "id": "XwnTCueQWj8w",
        "colab_type": "text"
      },
      "source": [
        "## Bibliografía\n",
        "\n",
        "- [The Python tutorial](https://docs.python.org/3/tutorial/).\n",
        "- [The Python language reference](https://docs.python.org/3/reference/).\n",
        "- [The Python standard library](https://docs.python.org/3/library/).\n",
        "- Jackson, Cody. 2016. Learning to Program Using Python: 3rd Edition. Createspace Independent Publishing Platform."
      ]
    }
  ]
}